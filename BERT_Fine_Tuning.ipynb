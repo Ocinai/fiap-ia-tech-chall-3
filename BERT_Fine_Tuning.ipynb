{
  "nbformat": 4,
  "nbformat_minor": 0,
  "metadata": {
    "colab": {
      "provenance": [],
      "gpuType": "T4"
    },
    "kernelspec": {
      "name": "python3",
      "display_name": "Python 3"
    },
    "language_info": {
      "name": "python"
    },
    "accelerator": "GPU"
  },
  "cells": [
    {
      "cell_type": "markdown",
      "source": [
        "# POS TECH - IA PARA DEVS\n",
        "### Tech Challenge - Fase 03\n",
        "\n",
        "**Aluno:** Inacio Ribeiro - RM362328\n",
        "\n"
      ],
      "metadata": {
        "id": "1X2HqEHzyS5o"
      }
    },
    {
      "cell_type": "markdown",
      "source": [
        "O objetivo deste Tech Challenge é executar o processo de fine-tuning de um modelo de fundação (BERT) utilizando o dataset \"The Amazon Titles-1.3MM\"."
      ],
      "metadata": {
        "id": "COiPOpFDyUeY"
      }
    },
    {
      "cell_type": "code",
      "source": [
        "!pip install transformers datasets pandas torch accelerate"
      ],
      "metadata": {
        "colab": {
          "base_uri": "https://localhost:8080/"
        },
        "id": "Z4uDodz7zAML",
        "outputId": "257d9861-929b-4ee7-b379-1c23464b0905"
      },
      "execution_count": 1,
      "outputs": [
        {
          "output_type": "stream",
          "name": "stdout",
          "text": [
            "Requirement already satisfied: transformers in /usr/local/lib/python3.12/dist-packages (4.56.2)\n",
            "Requirement already satisfied: datasets in /usr/local/lib/python3.12/dist-packages (4.0.0)\n",
            "Requirement already satisfied: pandas in /usr/local/lib/python3.12/dist-packages (2.2.2)\n",
            "Requirement already satisfied: torch in /usr/local/lib/python3.12/dist-packages (2.8.0+cu126)\n",
            "Requirement already satisfied: accelerate in /usr/local/lib/python3.12/dist-packages (1.10.1)\n",
            "Requirement already satisfied: filelock in /usr/local/lib/python3.12/dist-packages (from transformers) (3.19.1)\n",
            "Requirement already satisfied: huggingface-hub<1.0,>=0.34.0 in /usr/local/lib/python3.12/dist-packages (from transformers) (0.35.3)\n",
            "Requirement already satisfied: numpy>=1.17 in /usr/local/lib/python3.12/dist-packages (from transformers) (2.0.2)\n",
            "Requirement already satisfied: packaging>=20.0 in /usr/local/lib/python3.12/dist-packages (from transformers) (25.0)\n",
            "Requirement already satisfied: pyyaml>=5.1 in /usr/local/lib/python3.12/dist-packages (from transformers) (6.0.3)\n",
            "Requirement already satisfied: regex!=2019.12.17 in /usr/local/lib/python3.12/dist-packages (from transformers) (2024.11.6)\n",
            "Requirement already satisfied: requests in /usr/local/lib/python3.12/dist-packages (from transformers) (2.32.4)\n",
            "Requirement already satisfied: tokenizers<=0.23.0,>=0.22.0 in /usr/local/lib/python3.12/dist-packages (from transformers) (0.22.1)\n",
            "Requirement already satisfied: safetensors>=0.4.3 in /usr/local/lib/python3.12/dist-packages (from transformers) (0.6.2)\n",
            "Requirement already satisfied: tqdm>=4.27 in /usr/local/lib/python3.12/dist-packages (from transformers) (4.67.1)\n",
            "Requirement already satisfied: pyarrow>=15.0.0 in /usr/local/lib/python3.12/dist-packages (from datasets) (18.1.0)\n",
            "Requirement already satisfied: dill<0.3.9,>=0.3.0 in /usr/local/lib/python3.12/dist-packages (from datasets) (0.3.8)\n",
            "Requirement already satisfied: xxhash in /usr/local/lib/python3.12/dist-packages (from datasets) (3.5.0)\n",
            "Requirement already satisfied: multiprocess<0.70.17 in /usr/local/lib/python3.12/dist-packages (from datasets) (0.70.16)\n",
            "Requirement already satisfied: fsspec<=2025.3.0,>=2023.1.0 in /usr/local/lib/python3.12/dist-packages (from fsspec[http]<=2025.3.0,>=2023.1.0->datasets) (2025.3.0)\n",
            "Requirement already satisfied: python-dateutil>=2.8.2 in /usr/local/lib/python3.12/dist-packages (from pandas) (2.9.0.post0)\n",
            "Requirement already satisfied: pytz>=2020.1 in /usr/local/lib/python3.12/dist-packages (from pandas) (2025.2)\n",
            "Requirement already satisfied: tzdata>=2022.7 in /usr/local/lib/python3.12/dist-packages (from pandas) (2025.2)\n",
            "Requirement already satisfied: typing-extensions>=4.10.0 in /usr/local/lib/python3.12/dist-packages (from torch) (4.15.0)\n",
            "Requirement already satisfied: setuptools in /usr/local/lib/python3.12/dist-packages (from torch) (75.2.0)\n",
            "Requirement already satisfied: sympy>=1.13.3 in /usr/local/lib/python3.12/dist-packages (from torch) (1.13.3)\n",
            "Requirement already satisfied: networkx in /usr/local/lib/python3.12/dist-packages (from torch) (3.5)\n",
            "Requirement already satisfied: jinja2 in /usr/local/lib/python3.12/dist-packages (from torch) (3.1.6)\n",
            "Requirement already satisfied: nvidia-cuda-nvrtc-cu12==12.6.77 in /usr/local/lib/python3.12/dist-packages (from torch) (12.6.77)\n",
            "Requirement already satisfied: nvidia-cuda-runtime-cu12==12.6.77 in /usr/local/lib/python3.12/dist-packages (from torch) (12.6.77)\n",
            "Requirement already satisfied: nvidia-cuda-cupti-cu12==12.6.80 in /usr/local/lib/python3.12/dist-packages (from torch) (12.6.80)\n",
            "Requirement already satisfied: nvidia-cudnn-cu12==9.10.2.21 in /usr/local/lib/python3.12/dist-packages (from torch) (9.10.2.21)\n",
            "Requirement already satisfied: nvidia-cublas-cu12==12.6.4.1 in /usr/local/lib/python3.12/dist-packages (from torch) (12.6.4.1)\n",
            "Requirement already satisfied: nvidia-cufft-cu12==11.3.0.4 in /usr/local/lib/python3.12/dist-packages (from torch) (11.3.0.4)\n",
            "Requirement already satisfied: nvidia-curand-cu12==10.3.7.77 in /usr/local/lib/python3.12/dist-packages (from torch) (10.3.7.77)\n",
            "Requirement already satisfied: nvidia-cusolver-cu12==11.7.1.2 in /usr/local/lib/python3.12/dist-packages (from torch) (11.7.1.2)\n",
            "Requirement already satisfied: nvidia-cusparse-cu12==12.5.4.2 in /usr/local/lib/python3.12/dist-packages (from torch) (12.5.4.2)\n",
            "Requirement already satisfied: nvidia-cusparselt-cu12==0.7.1 in /usr/local/lib/python3.12/dist-packages (from torch) (0.7.1)\n",
            "Requirement already satisfied: nvidia-nccl-cu12==2.27.3 in /usr/local/lib/python3.12/dist-packages (from torch) (2.27.3)\n",
            "Requirement already satisfied: nvidia-nvtx-cu12==12.6.77 in /usr/local/lib/python3.12/dist-packages (from torch) (12.6.77)\n",
            "Requirement already satisfied: nvidia-nvjitlink-cu12==12.6.85 in /usr/local/lib/python3.12/dist-packages (from torch) (12.6.85)\n",
            "Requirement already satisfied: nvidia-cufile-cu12==1.11.1.6 in /usr/local/lib/python3.12/dist-packages (from torch) (1.11.1.6)\n",
            "Requirement already satisfied: triton==3.4.0 in /usr/local/lib/python3.12/dist-packages (from torch) (3.4.0)\n",
            "Requirement already satisfied: psutil in /usr/local/lib/python3.12/dist-packages (from accelerate) (5.9.5)\n",
            "Requirement already satisfied: aiohttp!=4.0.0a0,!=4.0.0a1 in /usr/local/lib/python3.12/dist-packages (from fsspec[http]<=2025.3.0,>=2023.1.0->datasets) (3.12.15)\n",
            "Requirement already satisfied: hf-xet<2.0.0,>=1.1.3 in /usr/local/lib/python3.12/dist-packages (from huggingface-hub<1.0,>=0.34.0->transformers) (1.1.10)\n",
            "Requirement already satisfied: six>=1.5 in /usr/local/lib/python3.12/dist-packages (from python-dateutil>=2.8.2->pandas) (1.17.0)\n",
            "Requirement already satisfied: charset_normalizer<4,>=2 in /usr/local/lib/python3.12/dist-packages (from requests->transformers) (3.4.3)\n",
            "Requirement already satisfied: idna<4,>=2.5 in /usr/local/lib/python3.12/dist-packages (from requests->transformers) (3.10)\n",
            "Requirement already satisfied: urllib3<3,>=1.21.1 in /usr/local/lib/python3.12/dist-packages (from requests->transformers) (2.5.0)\n",
            "Requirement already satisfied: certifi>=2017.4.17 in /usr/local/lib/python3.12/dist-packages (from requests->transformers) (2025.8.3)\n",
            "Requirement already satisfied: mpmath<1.4,>=1.1.0 in /usr/local/lib/python3.12/dist-packages (from sympy>=1.13.3->torch) (1.3.0)\n",
            "Requirement already satisfied: MarkupSafe>=2.0 in /usr/local/lib/python3.12/dist-packages (from jinja2->torch) (3.0.3)\n",
            "Requirement already satisfied: aiohappyeyeballs>=2.5.0 in /usr/local/lib/python3.12/dist-packages (from aiohttp!=4.0.0a0,!=4.0.0a1->fsspec[http]<=2025.3.0,>=2023.1.0->datasets) (2.6.1)\n",
            "Requirement already satisfied: aiosignal>=1.4.0 in /usr/local/lib/python3.12/dist-packages (from aiohttp!=4.0.0a0,!=4.0.0a1->fsspec[http]<=2025.3.0,>=2023.1.0->datasets) (1.4.0)\n",
            "Requirement already satisfied: attrs>=17.3.0 in /usr/local/lib/python3.12/dist-packages (from aiohttp!=4.0.0a0,!=4.0.0a1->fsspec[http]<=2025.3.0,>=2023.1.0->datasets) (25.3.0)\n",
            "Requirement already satisfied: frozenlist>=1.1.1 in /usr/local/lib/python3.12/dist-packages (from aiohttp!=4.0.0a0,!=4.0.0a1->fsspec[http]<=2025.3.0,>=2023.1.0->datasets) (1.7.0)\n",
            "Requirement already satisfied: multidict<7.0,>=4.5 in /usr/local/lib/python3.12/dist-packages (from aiohttp!=4.0.0a0,!=4.0.0a1->fsspec[http]<=2025.3.0,>=2023.1.0->datasets) (6.6.4)\n",
            "Requirement already satisfied: propcache>=0.2.0 in /usr/local/lib/python3.12/dist-packages (from aiohttp!=4.0.0a0,!=4.0.0a1->fsspec[http]<=2025.3.0,>=2023.1.0->datasets) (0.3.2)\n",
            "Requirement already satisfied: yarl<2.0,>=1.17.0 in /usr/local/lib/python3.12/dist-packages (from aiohttp!=4.0.0a0,!=4.0.0a1->fsspec[http]<=2025.3.0,>=2023.1.0->datasets) (1.20.1)\n"
          ]
        }
      ]
    },
    {
      "cell_type": "code",
      "source": [
        "import pandas as pd\n",
        "import json\n",
        "import torch\n",
        "from datasets import Dataset\n",
        "from transformers import (\n",
        "    AutoTokenizer,\n",
        "    AutoModelForQuestionAnswering,\n",
        "    TrainingArguments,\n",
        "    Trainer,\n",
        "    pipeline\n",
        ")\n",
        "import os"
      ],
      "metadata": {
        "id": "FjNYjW6PzKUG"
      },
      "execution_count": 2,
      "outputs": []
    },
    {
      "cell_type": "markdown",
      "source": [
        "### 1. Importando o Dataset"
      ],
      "metadata": {
        "id": "H-lfphOozfOo"
      }
    },
    {
      "cell_type": "code",
      "source": [
        "file_path = '/content/drive/MyDrive/trn.json'\n",
        "\n",
        "sample_size_limit = 20000\n",
        "\n",
        "data = []\n",
        "print(f\"Iniciando a leitura do arquivo. Vamos carregar no máximo {sample_size_limit} registros.\")\n",
        "\n",
        "try:\n",
        "    with open(file_path, 'r') as f:\n",
        "        for i, line in enumerate(f):\n",
        "            # Para quando atingir o limite\n",
        "            if i >= sample_size_limit:\n",
        "                print(f\"Limite de {sample_size_limit} registros atingido. Parando a leitura.\")\n",
        "                break\n",
        "\n",
        "            # Converte a linha (que é um texto JSON) em um dicionário Python\n",
        "            data.append(json.loads(line))\n",
        "\n",
        "            # Imprime um status a cada 1000 linhas para sabermos que está funcionando\n",
        "            if (i + 1) % 1000 == 0:\n",
        "                print(f\"Lidos {i + 1} registros...\")\n",
        "\n",
        "    # Cria o DataFrame somente com a amostra de dados\n",
        "    df = pd.DataFrame(data)\n",
        "    print(\"\\nDataset carregado com sucesso em um DataFrame!\")\n",
        "    print(\"Formato da amostra:\", df.shape)\n",
        "    display(df.head())\n",
        "\n",
        "except FileNotFoundError:\n",
        "    print(f\"Arquivo {file_path} não encontrado!\")\n",
        "    print(\"Verifique o caminho e certifique-se de que seu Google Drive está montado.\")\n"
      ],
      "metadata": {
        "colab": {
          "base_uri": "https://localhost:8080/",
          "height": 709
        },
        "id": "fT8ss-2Dziza",
        "outputId": "f12f13f8-8c13-470d-d56d-24490e14d383"
      },
      "execution_count": 3,
      "outputs": [
        {
          "output_type": "stream",
          "name": "stdout",
          "text": [
            "Iniciando a leitura do arquivo. Vamos carregar no máximo 20000 registros.\n",
            "Lidos 1000 registros...\n",
            "Lidos 2000 registros...\n",
            "Lidos 3000 registros...\n",
            "Lidos 4000 registros...\n",
            "Lidos 5000 registros...\n",
            "Lidos 6000 registros...\n",
            "Lidos 7000 registros...\n",
            "Lidos 8000 registros...\n",
            "Lidos 9000 registros...\n",
            "Lidos 10000 registros...\n",
            "Lidos 11000 registros...\n",
            "Lidos 12000 registros...\n",
            "Lidos 13000 registros...\n",
            "Lidos 14000 registros...\n",
            "Lidos 15000 registros...\n",
            "Lidos 16000 registros...\n",
            "Lidos 17000 registros...\n",
            "Lidos 18000 registros...\n",
            "Lidos 19000 registros...\n",
            "Lidos 20000 registros...\n",
            "Limite de 20000 registros atingido. Parando a leitura.\n",
            "\n",
            "Dataset carregado com sucesso em um DataFrame!\n",
            "Formato da amostra: (20000, 5)\n"
          ]
        },
        {
          "output_type": "display_data",
          "data": {
            "text/plain": [
              "          uid                                              title  \\\n",
              "0  0000031909                        Girls Ballet Tutu Neon Pink   \n",
              "1  0000032034                           Adult Ballet Tutu Yellow   \n",
              "2  0000913154  The Way Things Work: An Illustrated Encycloped...   \n",
              "3  0001360000                                      Mog's Kittens   \n",
              "4  0001381245                              Misty of Chincoteague   \n",
              "\n",
              "                                             content  \\\n",
              "0  High quality 3 layer ballet tutu. 12 inches in...   \n",
              "1                                                      \n",
              "2                                                      \n",
              "3  Judith Kerr&#8217;s best&#8211;selling adventu...   \n",
              "4                                                      \n",
              "\n",
              "                                          target_ind  \\\n",
              "0  [12, 13, 14, 15, 16, 17, 18, 19, 20, 21, 22, 2...   \n",
              "1  [0, 1, 2, 3, 4, 5, 6, 7, 8, 9, 16, 33, 36, 37,...   \n",
              "2                [116, 117, 118, 119, 120, 121, 122]   \n",
              "3                          [146, 147, 148, 149, 495]   \n",
              "4                                              [151]   \n",
              "\n",
              "                                          target_rel  \n",
              "0  [1.0, 1.0, 1.0, 1.0, 1.0, 1.0, 1.0, 1.0, 1.0, ...  \n",
              "1  [1.0, 1.0, 1.0, 1.0, 1.0, 1.0, 1.0, 1.0, 1.0, ...  \n",
              "2                [1.0, 1.0, 1.0, 1.0, 1.0, 1.0, 1.0]  \n",
              "3                          [1.0, 1.0, 1.0, 1.0, 1.0]  \n",
              "4                                              [1.0]  "
            ],
            "text/html": [
              "\n",
              "  <div id=\"df-1964a90f-b428-4ead-b6cb-088d99705321\" class=\"colab-df-container\">\n",
              "    <div>\n",
              "<style scoped>\n",
              "    .dataframe tbody tr th:only-of-type {\n",
              "        vertical-align: middle;\n",
              "    }\n",
              "\n",
              "    .dataframe tbody tr th {\n",
              "        vertical-align: top;\n",
              "    }\n",
              "\n",
              "    .dataframe thead th {\n",
              "        text-align: right;\n",
              "    }\n",
              "</style>\n",
              "<table border=\"1\" class=\"dataframe\">\n",
              "  <thead>\n",
              "    <tr style=\"text-align: right;\">\n",
              "      <th></th>\n",
              "      <th>uid</th>\n",
              "      <th>title</th>\n",
              "      <th>content</th>\n",
              "      <th>target_ind</th>\n",
              "      <th>target_rel</th>\n",
              "    </tr>\n",
              "  </thead>\n",
              "  <tbody>\n",
              "    <tr>\n",
              "      <th>0</th>\n",
              "      <td>0000031909</td>\n",
              "      <td>Girls Ballet Tutu Neon Pink</td>\n",
              "      <td>High quality 3 layer ballet tutu. 12 inches in...</td>\n",
              "      <td>[12, 13, 14, 15, 16, 17, 18, 19, 20, 21, 22, 2...</td>\n",
              "      <td>[1.0, 1.0, 1.0, 1.0, 1.0, 1.0, 1.0, 1.0, 1.0, ...</td>\n",
              "    </tr>\n",
              "    <tr>\n",
              "      <th>1</th>\n",
              "      <td>0000032034</td>\n",
              "      <td>Adult Ballet Tutu Yellow</td>\n",
              "      <td></td>\n",
              "      <td>[0, 1, 2, 3, 4, 5, 6, 7, 8, 9, 16, 33, 36, 37,...</td>\n",
              "      <td>[1.0, 1.0, 1.0, 1.0, 1.0, 1.0, 1.0, 1.0, 1.0, ...</td>\n",
              "    </tr>\n",
              "    <tr>\n",
              "      <th>2</th>\n",
              "      <td>0000913154</td>\n",
              "      <td>The Way Things Work: An Illustrated Encycloped...</td>\n",
              "      <td></td>\n",
              "      <td>[116, 117, 118, 119, 120, 121, 122]</td>\n",
              "      <td>[1.0, 1.0, 1.0, 1.0, 1.0, 1.0, 1.0]</td>\n",
              "    </tr>\n",
              "    <tr>\n",
              "      <th>3</th>\n",
              "      <td>0001360000</td>\n",
              "      <td>Mog's Kittens</td>\n",
              "      <td>Judith Kerr&amp;#8217;s best&amp;#8211;selling adventu...</td>\n",
              "      <td>[146, 147, 148, 149, 495]</td>\n",
              "      <td>[1.0, 1.0, 1.0, 1.0, 1.0]</td>\n",
              "    </tr>\n",
              "    <tr>\n",
              "      <th>4</th>\n",
              "      <td>0001381245</td>\n",
              "      <td>Misty of Chincoteague</td>\n",
              "      <td></td>\n",
              "      <td>[151]</td>\n",
              "      <td>[1.0]</td>\n",
              "    </tr>\n",
              "  </tbody>\n",
              "</table>\n",
              "</div>\n",
              "    <div class=\"colab-df-buttons\">\n",
              "\n",
              "  <div class=\"colab-df-container\">\n",
              "    <button class=\"colab-df-convert\" onclick=\"convertToInteractive('df-1964a90f-b428-4ead-b6cb-088d99705321')\"\n",
              "            title=\"Convert this dataframe to an interactive table.\"\n",
              "            style=\"display:none;\">\n",
              "\n",
              "  <svg xmlns=\"http://www.w3.org/2000/svg\" height=\"24px\" viewBox=\"0 -960 960 960\">\n",
              "    <path d=\"M120-120v-720h720v720H120Zm60-500h600v-160H180v160Zm220 220h160v-160H400v160Zm0 220h160v-160H400v160ZM180-400h160v-160H180v160Zm440 0h160v-160H620v160ZM180-180h160v-160H180v160Zm440 0h160v-160H620v160Z\"/>\n",
              "  </svg>\n",
              "    </button>\n",
              "\n",
              "  <style>\n",
              "    .colab-df-container {\n",
              "      display:flex;\n",
              "      gap: 12px;\n",
              "    }\n",
              "\n",
              "    .colab-df-convert {\n",
              "      background-color: #E8F0FE;\n",
              "      border: none;\n",
              "      border-radius: 50%;\n",
              "      cursor: pointer;\n",
              "      display: none;\n",
              "      fill: #1967D2;\n",
              "      height: 32px;\n",
              "      padding: 0 0 0 0;\n",
              "      width: 32px;\n",
              "    }\n",
              "\n",
              "    .colab-df-convert:hover {\n",
              "      background-color: #E2EBFA;\n",
              "      box-shadow: 0px 1px 2px rgba(60, 64, 67, 0.3), 0px 1px 3px 1px rgba(60, 64, 67, 0.15);\n",
              "      fill: #174EA6;\n",
              "    }\n",
              "\n",
              "    .colab-df-buttons div {\n",
              "      margin-bottom: 4px;\n",
              "    }\n",
              "\n",
              "    [theme=dark] .colab-df-convert {\n",
              "      background-color: #3B4455;\n",
              "      fill: #D2E3FC;\n",
              "    }\n",
              "\n",
              "    [theme=dark] .colab-df-convert:hover {\n",
              "      background-color: #434B5C;\n",
              "      box-shadow: 0px 1px 3px 1px rgba(0, 0, 0, 0.15);\n",
              "      filter: drop-shadow(0px 1px 2px rgba(0, 0, 0, 0.3));\n",
              "      fill: #FFFFFF;\n",
              "    }\n",
              "  </style>\n",
              "\n",
              "    <script>\n",
              "      const buttonEl =\n",
              "        document.querySelector('#df-1964a90f-b428-4ead-b6cb-088d99705321 button.colab-df-convert');\n",
              "      buttonEl.style.display =\n",
              "        google.colab.kernel.accessAllowed ? 'block' : 'none';\n",
              "\n",
              "      async function convertToInteractive(key) {\n",
              "        const element = document.querySelector('#df-1964a90f-b428-4ead-b6cb-088d99705321');\n",
              "        const dataTable =\n",
              "          await google.colab.kernel.invokeFunction('convertToInteractive',\n",
              "                                                    [key], {});\n",
              "        if (!dataTable) return;\n",
              "\n",
              "        const docLinkHtml = 'Like what you see? Visit the ' +\n",
              "          '<a target=\"_blank\" href=https://colab.research.google.com/notebooks/data_table.ipynb>data table notebook</a>'\n",
              "          + ' to learn more about interactive tables.';\n",
              "        element.innerHTML = '';\n",
              "        dataTable['output_type'] = 'display_data';\n",
              "        await google.colab.output.renderOutput(dataTable, element);\n",
              "        const docLink = document.createElement('div');\n",
              "        docLink.innerHTML = docLinkHtml;\n",
              "        element.appendChild(docLink);\n",
              "      }\n",
              "    </script>\n",
              "  </div>\n",
              "\n",
              "\n",
              "    <div id=\"df-dfa2661e-e138-4c64-a3e4-90a950e8e56d\">\n",
              "      <button class=\"colab-df-quickchart\" onclick=\"quickchart('df-dfa2661e-e138-4c64-a3e4-90a950e8e56d')\"\n",
              "                title=\"Suggest charts\"\n",
              "                style=\"display:none;\">\n",
              "\n",
              "<svg xmlns=\"http://www.w3.org/2000/svg\" height=\"24px\"viewBox=\"0 0 24 24\"\n",
              "     width=\"24px\">\n",
              "    <g>\n",
              "        <path d=\"M19 3H5c-1.1 0-2 .9-2 2v14c0 1.1.9 2 2 2h14c1.1 0 2-.9 2-2V5c0-1.1-.9-2-2-2zM9 17H7v-7h2v7zm4 0h-2V7h2v10zm4 0h-2v-4h2v4z\"/>\n",
              "    </g>\n",
              "</svg>\n",
              "      </button>\n",
              "\n",
              "<style>\n",
              "  .colab-df-quickchart {\n",
              "      --bg-color: #E8F0FE;\n",
              "      --fill-color: #1967D2;\n",
              "      --hover-bg-color: #E2EBFA;\n",
              "      --hover-fill-color: #174EA6;\n",
              "      --disabled-fill-color: #AAA;\n",
              "      --disabled-bg-color: #DDD;\n",
              "  }\n",
              "\n",
              "  [theme=dark] .colab-df-quickchart {\n",
              "      --bg-color: #3B4455;\n",
              "      --fill-color: #D2E3FC;\n",
              "      --hover-bg-color: #434B5C;\n",
              "      --hover-fill-color: #FFFFFF;\n",
              "      --disabled-bg-color: #3B4455;\n",
              "      --disabled-fill-color: #666;\n",
              "  }\n",
              "\n",
              "  .colab-df-quickchart {\n",
              "    background-color: var(--bg-color);\n",
              "    border: none;\n",
              "    border-radius: 50%;\n",
              "    cursor: pointer;\n",
              "    display: none;\n",
              "    fill: var(--fill-color);\n",
              "    height: 32px;\n",
              "    padding: 0;\n",
              "    width: 32px;\n",
              "  }\n",
              "\n",
              "  .colab-df-quickchart:hover {\n",
              "    background-color: var(--hover-bg-color);\n",
              "    box-shadow: 0 1px 2px rgba(60, 64, 67, 0.3), 0 1px 3px 1px rgba(60, 64, 67, 0.15);\n",
              "    fill: var(--button-hover-fill-color);\n",
              "  }\n",
              "\n",
              "  .colab-df-quickchart-complete:disabled,\n",
              "  .colab-df-quickchart-complete:disabled:hover {\n",
              "    background-color: var(--disabled-bg-color);\n",
              "    fill: var(--disabled-fill-color);\n",
              "    box-shadow: none;\n",
              "  }\n",
              "\n",
              "  .colab-df-spinner {\n",
              "    border: 2px solid var(--fill-color);\n",
              "    border-color: transparent;\n",
              "    border-bottom-color: var(--fill-color);\n",
              "    animation:\n",
              "      spin 1s steps(1) infinite;\n",
              "  }\n",
              "\n",
              "  @keyframes spin {\n",
              "    0% {\n",
              "      border-color: transparent;\n",
              "      border-bottom-color: var(--fill-color);\n",
              "      border-left-color: var(--fill-color);\n",
              "    }\n",
              "    20% {\n",
              "      border-color: transparent;\n",
              "      border-left-color: var(--fill-color);\n",
              "      border-top-color: var(--fill-color);\n",
              "    }\n",
              "    30% {\n",
              "      border-color: transparent;\n",
              "      border-left-color: var(--fill-color);\n",
              "      border-top-color: var(--fill-color);\n",
              "      border-right-color: var(--fill-color);\n",
              "    }\n",
              "    40% {\n",
              "      border-color: transparent;\n",
              "      border-right-color: var(--fill-color);\n",
              "      border-top-color: var(--fill-color);\n",
              "    }\n",
              "    60% {\n",
              "      border-color: transparent;\n",
              "      border-right-color: var(--fill-color);\n",
              "    }\n",
              "    80% {\n",
              "      border-color: transparent;\n",
              "      border-right-color: var(--fill-color);\n",
              "      border-bottom-color: var(--fill-color);\n",
              "    }\n",
              "    90% {\n",
              "      border-color: transparent;\n",
              "      border-bottom-color: var(--fill-color);\n",
              "    }\n",
              "  }\n",
              "</style>\n",
              "\n",
              "      <script>\n",
              "        async function quickchart(key) {\n",
              "          const quickchartButtonEl =\n",
              "            document.querySelector('#' + key + ' button');\n",
              "          quickchartButtonEl.disabled = true;  // To prevent multiple clicks.\n",
              "          quickchartButtonEl.classList.add('colab-df-spinner');\n",
              "          try {\n",
              "            const charts = await google.colab.kernel.invokeFunction(\n",
              "                'suggestCharts', [key], {});\n",
              "          } catch (error) {\n",
              "            console.error('Error during call to suggestCharts:', error);\n",
              "          }\n",
              "          quickchartButtonEl.classList.remove('colab-df-spinner');\n",
              "          quickchartButtonEl.classList.add('colab-df-quickchart-complete');\n",
              "        }\n",
              "        (() => {\n",
              "          let quickchartButtonEl =\n",
              "            document.querySelector('#df-dfa2661e-e138-4c64-a3e4-90a950e8e56d button');\n",
              "          quickchartButtonEl.style.display =\n",
              "            google.colab.kernel.accessAllowed ? 'block' : 'none';\n",
              "        })();\n",
              "      </script>\n",
              "    </div>\n",
              "\n",
              "    </div>\n",
              "  </div>\n"
            ],
            "application/vnd.google.colaboratory.intrinsic+json": {
              "type": "dataframe",
              "summary": "{\n  \"name\": \"    print(\\\"Verifique o caminho e certifique-se de que seu Google Drive est\\u00e1 montado\",\n  \"rows\": 5,\n  \"fields\": [\n    {\n      \"column\": \"uid\",\n      \"properties\": {\n        \"dtype\": \"string\",\n        \"num_unique_values\": 5,\n        \"samples\": [\n          \"0000032034\",\n          \"0001381245\",\n          \"0000913154\"\n        ],\n        \"semantic_type\": \"\",\n        \"description\": \"\"\n      }\n    },\n    {\n      \"column\": \"title\",\n      \"properties\": {\n        \"dtype\": \"string\",\n        \"num_unique_values\": 5,\n        \"samples\": [\n          \"Adult Ballet Tutu Yellow\",\n          \"Misty of Chincoteague\",\n          \"The Way Things Work: An Illustrated Encyclopedia of Technology\"\n        ],\n        \"semantic_type\": \"\",\n        \"description\": \"\"\n      }\n    },\n    {\n      \"column\": \"content\",\n      \"properties\": {\n        \"dtype\": \"string\",\n        \"num_unique_values\": 3,\n        \"samples\": [\n          \"High quality 3 layer ballet tutu. 12 inches in length\",\n          \"\",\n          \"Judith Kerr&#8217;s best&#8211;selling adventures of that endearing (and exasperating) cat Mog have entertained children for more than 30 years. Now, even infants and toddlers can enjoy meeting this loveable feline. These sturdy little board books&#8212;with their bright, simple pictures, easy text, and hand&#8211;friendly formats&#8212;are just the thing to delight the very young. Ages 6 months&#8211;2 years.\"\n        ],\n        \"semantic_type\": \"\",\n        \"description\": \"\"\n      }\n    },\n    {\n      \"column\": \"target_ind\",\n      \"properties\": {\n        \"dtype\": \"object\",\n        \"semantic_type\": \"\",\n        \"description\": \"\"\n      }\n    },\n    {\n      \"column\": \"target_rel\",\n      \"properties\": {\n        \"dtype\": \"object\",\n        \"semantic_type\": \"\",\n        \"description\": \"\"\n      }\n    }\n  ]\n}"
            }
          },
          "metadata": {}
        }
      ]
    },
    {
      "cell_type": "markdown",
      "source": [
        "### 2. Vamos testar a resposta atual do modelo sem treinamento prévio."
      ],
      "metadata": {
        "id": "hJq7pE2949K4"
      }
    },
    {
      "cell_type": "code",
      "source": [
        "from transformers import pipeline\n",
        "import textwrap\n",
        "\n",
        "model_name_baseline = \"deepset/bert-base-cased-squad2\"\n",
        "\n",
        "qa_pipeline_baseline = pipeline(\"question-answering\", model=model_name_baseline, tokenizer=model_name_baseline)\n",
        "print(\"Pipeline carregado com sucesso!\")\n",
        "\n",
        "if 'df' in locals() and not df.empty:\n",
        "\n",
        "    df_valid = df[df['content'].str.strip().astype(bool)]\n",
        "\n",
        "    if not df_valid.empty:\n",
        "        # 2. Selecionamos um exemplo aleatório do DataFrame JÁ FILTRADO\n",
        "        indice_fixo = 10\n",
        "        test_sample = df_valid.iloc[indice_fixo]\n",
        "\n",
        "        product_title = test_sample['title']\n",
        "        product_context = test_sample['content']\n",
        "\n",
        "        question = f\"What are the features of the product '{product_title}'?\"\n",
        "\n",
        "        print(\"\\n\" + \"=\"*50)\n",
        "        print(\"--- EXECUTANDO TESTE COM O MODELO PRÉ-TREINADO ---\")\n",
        "        print(\"=\"*50)\n",
        "        print(f\"\\nPERGUNTA: {question}\")\n",
        "        print(\"\\nCONTEXTO (Descrição do Produto):\")\n",
        "        print(textwrap.fill(product_context, width=120))\n",
        "\n",
        "        result_baseline = qa_pipeline_baseline(question=question, context=product_context)\n",
        "\n",
        "        print(\"\\n\" + \"=\"*50)\n",
        "        print(\"--- RESULTADO ATUAL DO MODELO (ANTES DO FINE-TUNING) ---\")\n",
        "        print(\"=\"*50)\n",
        "        print(f\"\\nRESPOSTA EXTRAÍDA: '{result_baseline['answer']}'\")\n",
        "        print(f\"CONFIANÇA (SCORE): {result_baseline['score']:.4f}\")\n",
        "    else:\n",
        "        print(\"ERRO: Não foram encontradas linhas com descrições válidas no seu DataFrame de amostra.\")\n",
        "else:\n",
        "    print(\"ERRO: O DataFrame 'df' não foi encontrado. Execute a célula de carregamento de dados primeiro.\")"
      ],
      "metadata": {
        "colab": {
          "base_uri": "https://localhost:8080/"
        },
        "id": "gPRrHcAa5Gc0",
        "outputId": "5bac00a3-1866-4f52-abef-60be6f353332"
      },
      "execution_count": 9,
      "outputs": [
        {
          "output_type": "stream",
          "name": "stderr",
          "text": [
            "Some weights of the model checkpoint at deepset/bert-base-cased-squad2 were not used when initializing BertForQuestionAnswering: ['bert.pooler.dense.bias', 'bert.pooler.dense.weight']\n",
            "- This IS expected if you are initializing BertForQuestionAnswering from the checkpoint of a model trained on another task or with another architecture (e.g. initializing a BertForSequenceClassification model from a BertForPreTraining model).\n",
            "- This IS NOT expected if you are initializing BertForQuestionAnswering from the checkpoint of a model that you expect to be exactly identical (initializing a BertForSequenceClassification model from a BertForSequenceClassification model).\n",
            "Device set to use cuda:0\n"
          ]
        },
        {
          "output_type": "stream",
          "name": "stdout",
          "text": [
            "Pipeline carregado com sucesso!\n",
            "\n",
            "==================================================\n",
            "--- EXECUTANDO TESTE COM O MODELO PRÉ-TREINADO ---\n",
            "==================================================\n",
            "\n",
            "PERGUNTA: What are the features of the product 'The Book of Revelation'?\n",
            "\n",
            "CONTEXTO (Descrição do Produto):\n",
            "American Baptist pastor, Bible teacher, and writer, Clarence Larkin was born October 28, 1850, in Chester, Delaware\n",
            "County, Pennsylvania. He was converted to Christ at the age of 19 and then felt called to the Gospel ministry, but the\n",
            "doors of opportunity for study and ministry did not open immediately. He then got a job in a bank. When he was 21 years\n",
            "old, he left the bank and went to college, graduating as a mechanical engineer. He continued as a professional draftsman\n",
            "for a while, then he became a teacher of the blind. Later, failing health compelled him to give up his teaching career.\n",
            "After a prolonged rest, he became a manufacturer. When he was converted he had become a member of the Episcopal Church,\n",
            "but in 1882,he became a Baptist and was ordained as a Baptist minister two years later. He went directly from business\n",
            "into the ministry. His first charge was at Kennett Square, Pennsylvania; his second pastorate was at Fox Chase,\n",
            "Pennsylvania, where he remained for 20 years. He was not a premillennialist at the time of his ordination, but his study\n",
            "of the Scriptures, with the help of some books that fell into his hands, led him to adopt the premillennialist position.\n",
            "He began to make large wall charts, which he titled, \"\"Prophetic Truth,\"\" for use in the pulpit. These led to his being\n",
            "invited to teach, in connection with his pastoral work, in two Bible institutes. During this time he published a number\n",
            "of prophetical charts, which were widely circulated. When World War I broke out in 1914, he was called on for addresses\n",
            "on The War and Prophecy. Then God laid it on his heart to prepare a work on Dispensational Truth (or God's Plan and\n",
            "Purpose in the Ages), containing a number of charts with descriptive matter. He spent three years of his life designing\n",
            "and drawing the charts and preparing the text. The favorable reception it has had since it was first published in 1918\n",
            "seems to indicate that the world was waiting for such a book. Because it had a large and wide circulation in this and\n",
            "other lands, the first edition was soon exhausted. It was followed by a second edition, and then, realizing that the\n",
            "book was of permanent value, Larkin revised it and expanded it, printing it in its present form. He went to be with the\n",
            "Lord on January 24, 1924.\"--This text refers to thePaperbackedition.\n",
            "\n",
            "==================================================\n",
            "--- RESULTADO ATUAL DO MODELO (ANTES DO FINE-TUNING) ---\n",
            "==================================================\n",
            "\n",
            "RESPOSTA EXTRAÍDA: 'a number of charts with descriptive matter'\n",
            "CONFIANÇA (SCORE): 0.0016\n"
          ]
        }
      ]
    },
    {
      "cell_type": "code",
      "source": [],
      "metadata": {
        "id": "h-phHBy_0qxt"
      },
      "execution_count": null,
      "outputs": []
    },
    {
      "cell_type": "markdown",
      "source": [
        "### 3. Preparando os dados para treinamento"
      ],
      "metadata": {
        "id": "KeuLWhgM8eZC"
      }
    },
    {
      "cell_type": "code",
      "source": [
        "df_prepared = df[['title', 'content']].copy()\n",
        "\n",
        "df_prepared.dropna(subset=['title', 'content'], inplace=True)\n",
        "df_prepared = df_prepared[df_prepared['content'] != '']\n",
        "\n",
        "DATASET_SAMPLE_SIZE = 10000\n",
        "df_sample = df_prepared.sample(n=min(DATASET_SAMPLE_SIZE, len(df_prepared)), random_state=42)"
      ],
      "metadata": {
        "id": "b_lv0hBo81y_"
      },
      "execution_count": 11,
      "outputs": []
    },
    {
      "cell_type": "code",
      "source": [
        "def format_dataset(df):\n",
        "    formatted_data = []\n",
        "    for _, row in df.iterrows():\n",
        "        context = str(row['content'])\n",
        "\n",
        "        question = f\"What are the features of {row['title']} ?\"\n",
        "\n",
        "        answer_text = context\n",
        "        answer_start = 0\n",
        "\n",
        "        formatted_data.append({\n",
        "            'question': question,\n",
        "            'context': context,\n",
        "            'answers': {\n",
        "                'text': [answer_text],\n",
        "                'answer_start': [answer_start]\n",
        "            }\n",
        "        })\n",
        "    return formatted_data"
      ],
      "metadata": {
        "id": "Itpvrwdh891I"
      },
      "execution_count": 19,
      "outputs": []
    },
    {
      "cell_type": "code",
      "source": [
        "qa_data = format_dataset(df_sample)\n",
        "hf_dataset = Dataset.from_list(qa_data)\n",
        "\n",
        "hf_dataset_split = hf_dataset.train_test_split(test_size=0.1)\n",
        "train_dataset = hf_dataset_split['train']\n",
        "eval_dataset = hf_dataset_split['test']\n",
        "\n",
        "print(train_dataset[0])"
      ],
      "metadata": {
        "colab": {
          "base_uri": "https://localhost:8080/"
        },
        "id": "4gFOGQfG9KC0",
        "outputId": "bb83393b-db67-45a5-b176-cb6919b62691"
      },
      "execution_count": 20,
      "outputs": [
        {
          "output_type": "stream",
          "name": "stdout",
          "text": [
            "{'question': \"What are the features of Manager's Guide to Navigating Change (Briefcase Books Series) ?\", 'context': \"The only guarantee in business is change. All managers need to understand that they will either be buffeted by change or help shape it. Knowing how to do that is the real test of leadership in today's organizational environments.&#xA0;Manager's Guide to Navigating Change&#xA0;provides methods for managing risks and ensuring the organization continues to move forward through turbulence created by both internal and external events.Learn how to:Define what the future looks like and communicate your vision to your staffMake large-scale change sustainable by aligning your efforts and resourcesAlign organizational and employee values, missions, and goalsLeverage your resources to facilitate stakeholder buy-inEnact your plan and measure results as you goBriefcase Books, written&#xA0;specifically&#xA0;for today's busy manager, feature eye-catching icons, checklists, and sidebars to guide managers step-by-step through everyday workplace situations. Look for these innovative design features to help you navigate through each page:Key Terms:&#xA0;Clear definitions of key terms and conceptsSmart Managing:&#xA0;Tactics and strategies for managing changeTricks of the Trade:&#xA0;Tips for executing the tactics in the bookMistake Proofing:&#xA0;Practical advice for minimizing the possibility of errorCaution:&#xA0;Warning signs for when things are about to go wrongFor Example:&#xA0;Examples of successful change-management tacticsTools:&#xA0;Specific planning procedures, tactics, and hands-on techniques\", 'answers': {'answer_start': [0], 'text': [\"The only guarantee in business is change. All managers need to understand that they will either be buffeted by change or help shape it. Knowing how to do that is the real test of leadership in today's organizational environments.&#xA0;Manager's Guide to Navigating Change&#xA0;provides methods for managing risks and ensuring the organization continues to move forward through turbulence created by both internal and external events.Learn how to:Define what the future looks like and communicate your vision to your staffMake large-scale change sustainable by aligning your efforts and resourcesAlign organizational and employee values, missions, and goalsLeverage your resources to facilitate stakeholder buy-inEnact your plan and measure results as you goBriefcase Books, written&#xA0;specifically&#xA0;for today's busy manager, feature eye-catching icons, checklists, and sidebars to guide managers step-by-step through everyday workplace situations. Look for these innovative design features to help you navigate through each page:Key Terms:&#xA0;Clear definitions of key terms and conceptsSmart Managing:&#xA0;Tactics and strategies for managing changeTricks of the Trade:&#xA0;Tips for executing the tactics in the bookMistake Proofing:&#xA0;Practical advice for minimizing the possibility of errorCaution:&#xA0;Warning signs for when things are about to go wrongFor Example:&#xA0;Examples of successful change-management tacticsTools:&#xA0;Specific planning procedures, tactics, and hands-on techniques\"]}}\n"
          ]
        }
      ]
    },
    {
      "cell_type": "markdown",
      "source": [
        "### 4. Execução do Fine-Tuning"
      ],
      "metadata": {
        "id": "0jjFPvC9-7VP"
      }
    },
    {
      "cell_type": "code",
      "source": [
        "model_checkpoint = \"bert-base-multilingual-cased\"\n",
        "tokenizer = AutoTokenizer.from_pretrained(model_checkpoint)\n",
        "model = AutoModelForQuestionAnswering.from_pretrained(model_checkpoint)"
      ],
      "metadata": {
        "colab": {
          "base_uri": "https://localhost:8080/",
          "height": 232,
          "referenced_widgets": [
            "fdc3f2feda8e483890800519365320ff",
            "bab8e6cebfe84439beaeadcd29899320",
            "92b7691a76fe4d0bb29bb8a855e7d7db",
            "51c6b06e4b9c455b81106a577dee3421",
            "078174a7301c4d7abbd1fefd85a47ec6",
            "75527ce8fdff4acda2a96ef176bebe65",
            "fb4c51b1b35d49a99563eb7a29610aa3",
            "8adcfc8052f34b039ed4df0869c2f65c",
            "bddaf5cab75d463daa6dbd429670b0cf",
            "d2ba76eaf1ff41619f1440fd2137d795",
            "8f9d091ceea9492abd48301859fb6c44",
            "da71bf2ac0504b18bd3d5dedb43a17e2",
            "a4290a05b6b84e8b9eab6fb2e986a5d8",
            "9b2cbd904aac400087c155b8cd7f80dc",
            "79e676ab521247e29b99a78feb205dbe",
            "197ed2ec4fed46b6af09a6b7efa258a7",
            "cbd07e02625a46bf929269d6aba1707d",
            "000110e1d8574ebeae05e34191fdd5f5",
            "838cf913be0a48caa66a0f9e78b94d82",
            "41005337a0e94fff8e9266968a3493a6",
            "4e91299d04284227a4219f6c9ea6626d",
            "376b1e15f3e241aebe33f15d62f5f92b",
            "813b52a5b190456fb0f037b6b10ce0db",
            "2be5e010b9494d4cb040483339b6c1c5",
            "dbff363cd1b946e181e27ba3c69b2cb0",
            "0de1ce22c6ec44d1834606c47ee2d2bc",
            "242e3f68a7db402081fe24859087c1d9",
            "29c7db3d9297419682c0a68052f49149",
            "eb69418929494882b483f10b0c9a6b78",
            "7cf06a5a81784a31a842252827e56f7e",
            "b4515f4f2f284987a06cabdd07f28450",
            "07e10dcca5814f139abf1fea4664feb8",
            "79d37d38b9cf4593a1ec2cd7953f9fe6",
            "5de3e9652047455aa0dc456c4bed9c35",
            "4c282fa697fb40739bfa15ce39959470",
            "aee62310c36546f4b8f30d0d2beeef2c",
            "fd37ba33b3324970afcb7ac58389fae5",
            "f277fb423aa44c278c859cfd2b71a5cc",
            "8b351cc817c2431789c66c3138c20906",
            "dc829d91e4934167adeebe39e6d6711d",
            "082397a0ba974f40834e8ffd502d3b83",
            "1b164a48b5a24489ae60efbed1aa30de",
            "80c8c93e3865449e90d490768ea1b8c3",
            "d8d5b952079645e1b28c976bc919f88c",
            "28da6462df3b40408d897ae6635035d0",
            "6b55140b339e4a9992e44c0f97330137",
            "960036764d0b435e987e3f04f92b8cad",
            "2096830574d44f198314e6753e3a616c",
            "66113b9720c74295887c13a02bbe1006",
            "e779b4ecd2694e818ad3b1ff5be4050e",
            "d63577b313924829bebc6a3f887da99e",
            "480219b9c2f14e63b55d3fdfbf17c455",
            "b07fcab3cd9c4902984587bc96979948",
            "810a9b87b1694cafbee5636a086d5338",
            "0ab3de06a5da4d1c8d8da01e9096e53a"
          ]
        },
        "id": "Rj-Hf2qU-QlH",
        "outputId": "1f732f5b-f007-4877-dcdc-fe63239153f0"
      },
      "execution_count": 28,
      "outputs": [
        {
          "output_type": "display_data",
          "data": {
            "text/plain": [
              "tokenizer_config.json:   0%|          | 0.00/49.0 [00:00<?, ?B/s]"
            ],
            "application/vnd.jupyter.widget-view+json": {
              "version_major": 2,
              "version_minor": 0,
              "model_id": "fdc3f2feda8e483890800519365320ff"
            }
          },
          "metadata": {}
        },
        {
          "output_type": "display_data",
          "data": {
            "text/plain": [
              "config.json:   0%|          | 0.00/625 [00:00<?, ?B/s]"
            ],
            "application/vnd.jupyter.widget-view+json": {
              "version_major": 2,
              "version_minor": 0,
              "model_id": "da71bf2ac0504b18bd3d5dedb43a17e2"
            }
          },
          "metadata": {}
        },
        {
          "output_type": "display_data",
          "data": {
            "text/plain": [
              "vocab.txt:   0%|          | 0.00/996k [00:00<?, ?B/s]"
            ],
            "application/vnd.jupyter.widget-view+json": {
              "version_major": 2,
              "version_minor": 0,
              "model_id": "813b52a5b190456fb0f037b6b10ce0db"
            }
          },
          "metadata": {}
        },
        {
          "output_type": "display_data",
          "data": {
            "text/plain": [
              "tokenizer.json:   0%|          | 0.00/1.96M [00:00<?, ?B/s]"
            ],
            "application/vnd.jupyter.widget-view+json": {
              "version_major": 2,
              "version_minor": 0,
              "model_id": "5de3e9652047455aa0dc456c4bed9c35"
            }
          },
          "metadata": {}
        },
        {
          "output_type": "display_data",
          "data": {
            "text/plain": [
              "model.safetensors:   0%|          | 0.00/714M [00:00<?, ?B/s]"
            ],
            "application/vnd.jupyter.widget-view+json": {
              "version_major": 2,
              "version_minor": 0,
              "model_id": "28da6462df3b40408d897ae6635035d0"
            }
          },
          "metadata": {}
        },
        {
          "output_type": "stream",
          "name": "stderr",
          "text": [
            "Some weights of BertForQuestionAnswering were not initialized from the model checkpoint at bert-base-multilingual-cased and are newly initialized: ['qa_outputs.bias', 'qa_outputs.weight']\n",
            "You should probably TRAIN this model on a down-stream task to be able to use it for predictions and inference.\n"
          ]
        }
      ]
    },
    {
      "cell_type": "code",
      "source": [
        "def preprocess_function(examples):\n",
        "    questions = [q.strip() for q in examples[\"question\"]]\n",
        "    inputs = tokenizer(\n",
        "        questions,\n",
        "        examples[\"context\"],\n",
        "        max_length=384,\n",
        "        truncation=\"only_second\",\n",
        "        return_offsets_mapping=True,\n",
        "        padding=\"max_length\",\n",
        "    )\n",
        "\n",
        "    offset_mapping = inputs.pop(\"offset_mapping\")\n",
        "    answers = examples[\"answers\"]\n",
        "    start_positions = []\n",
        "    end_positions = []\n",
        "\n",
        "    for i, offset in enumerate(offset_mapping):\n",
        "        answer = answers[i]\n",
        "        start_char = answer[\"answer_start\"][0]\n",
        "        end_char = start_char + len(answer[\"text\"][0])\n",
        "        sequence_ids = inputs.sequence_ids(i)\n",
        "\n",
        "        idx = 0\n",
        "        while sequence_ids[idx] != 1:\n",
        "            idx += 1\n",
        "        context_start = idx\n",
        "        while sequence_ids[idx] == 1:\n",
        "            idx += 1\n",
        "        context_end = idx - 1\n",
        "\n",
        "        if offset[context_start][0] > end_char or offset[context_end][1] < start_char:\n",
        "            start_positions.append(0)\n",
        "            end_positions.append(0)\n",
        "        else:\n",
        "            idx = context_start\n",
        "            while idx <= context_end and offset[idx][0] <= start_char:\n",
        "                idx += 1\n",
        "            start_positions.append(idx - 1)\n",
        "\n",
        "            idx = context_end\n",
        "            while idx >= context_start and offset[idx][1] >= end_char:\n",
        "                idx -= 1\n",
        "            end_positions.append(idx + 1)\n",
        "\n",
        "    inputs[\"start_positions\"] = start_positions\n",
        "    inputs[\"end_positions\"] = end_positions\n",
        "    return inputs"
      ],
      "metadata": {
        "id": "qlmN2xMG_A5R"
      },
      "execution_count": 29,
      "outputs": []
    },
    {
      "cell_type": "code",
      "source": [
        "tokenized_train_dataset = train_dataset.map(preprocess_function, batched=True, remove_columns=train_dataset.column_names)\n",
        "tokenized_eval_dataset = eval_dataset.map(preprocess_function, batched=True, remove_columns=eval_dataset.column_names)\n"
      ],
      "metadata": {
        "colab": {
          "base_uri": "https://localhost:8080/",
          "height": 81,
          "referenced_widgets": [
            "bf14331bd2b647f5a67c2fe8dd8a0dad",
            "29f1e9534c7d4d86bec1177cab62aa13",
            "e460be9e397c49e59c0182d2f132043c",
            "eff0cfbd27e649e9b90e37c27842017e",
            "30f048abe4814fdfb8fb58c4506b5a9d",
            "e53e7d429e094bf386ca89ba2abedf77",
            "3a2c7e890f8e451f9f575f1ba4dd5b56",
            "f37cf9e756d74a42aeb7cba0aefd9a2a",
            "88293382d1fa471c95a650c195384aed",
            "e8b360abd1294ce0b4f573264f844a69",
            "7c163f1d5c1a4ce6ab477912733e14b0",
            "b026685843f0491982db8d5ef1501d3d",
            "5bb6070b89a6453185839809b6d6d3b4",
            "1be0f25dced24810915c1ecd693580ef",
            "77c5f74a33f743ed8f5a722f4bcf091e",
            "951f0abc30ff430da419ac917a58697b",
            "81da6b46a1894dc2b62819e6ba533f93",
            "4fede4f659054a1a82da17186c61c175",
            "c6bf64d993bc4a4a92a4685552010296",
            "c14c121109264186b54af0a7208bdb49",
            "a94a720a7c784f34bc9cc06c2deb442f",
            "64a27b34469a4c499d026018f14e99cf"
          ]
        },
        "id": "lhr-iKU__TP8",
        "outputId": "501f36d7-daab-47dd-82b2-6e2b3149f587"
      },
      "execution_count": 30,
      "outputs": [
        {
          "output_type": "display_data",
          "data": {
            "text/plain": [
              "Map:   0%|          | 0/9000 [00:00<?, ? examples/s]"
            ],
            "application/vnd.jupyter.widget-view+json": {
              "version_major": 2,
              "version_minor": 0,
              "model_id": "bf14331bd2b647f5a67c2fe8dd8a0dad"
            }
          },
          "metadata": {}
        },
        {
          "output_type": "display_data",
          "data": {
            "text/plain": [
              "Map:   0%|          | 0/1000 [00:00<?, ? examples/s]"
            ],
            "application/vnd.jupyter.widget-view+json": {
              "version_major": 2,
              "version_minor": 0,
              "model_id": "b026685843f0491982db8d5ef1501d3d"
            }
          },
          "metadata": {}
        }
      ]
    },
    {
      "cell_type": "code",
      "source": [
        "output_dir_drive = '/content/drive/MyDrive/TechChallenge/results'\n",
        "final_model_path_drive = '/content/drive/MyDrive/TechChallenge/fine_tuned_bert_amazon_qa'\n",
        "\n",
        "training_args = TrainingArguments(\n",
        "    output_dir=output_dir_drive,\n",
        "    eval_strategy=\"epoch\",\n",
        "    learning_rate=2e-5,\n",
        "    per_device_train_batch_size=8,\n",
        "    per_device_eval_batch_size=8,\n",
        "    num_train_epochs=1,\n",
        "    weight_decay=0.01,\n",
        "    save_strategy=\"epoch\",\n",
        "    load_best_model_at_end=True,\n",
        ")"
      ],
      "metadata": {
        "id": "_ZBmuybq_aY_"
      },
      "execution_count": 35,
      "outputs": []
    },
    {
      "cell_type": "code",
      "source": [
        "trainer = Trainer(\n",
        "    model=model,\n",
        "    args=training_args,\n",
        "    train_dataset=tokenized_train_dataset,\n",
        "    eval_dataset=tokenized_eval_dataset,\n",
        "    tokenizer=tokenizer,\n",
        ")"
      ],
      "metadata": {
        "colab": {
          "base_uri": "https://localhost:8080/"
        },
        "id": "bCzkz-4N_oom",
        "outputId": "5b9969ca-37c4-4d11-cedd-3dc955fcc015"
      },
      "execution_count": 36,
      "outputs": [
        {
          "output_type": "stream",
          "name": "stderr",
          "text": [
            "/tmp/ipython-input-1882630135.py:1: FutureWarning: `tokenizer` is deprecated and will be removed in version 5.0.0 for `Trainer.__init__`. Use `processing_class` instead.\n",
            "  trainer = Trainer(\n"
          ]
        }
      ]
    },
    {
      "cell_type": "markdown",
      "source": [
        "### 5. Executando o treinamento"
      ],
      "metadata": {
        "id": "SwRUD8REAZVz"
      }
    },
    {
      "cell_type": "code",
      "source": [
        "print(\"Iniciando o processo de Fine-Tuning...\")\n",
        "trainer.train()\n",
        "print(\"Fine-Tuning concluído!\")"
      ],
      "metadata": {
        "colab": {
          "base_uri": "https://localhost:8080/",
          "height": 157
        },
        "id": "Ona15J0NAcIK",
        "outputId": "0c9453da-95dc-4883-eeeb-28b8b14fdeec"
      },
      "execution_count": null,
      "outputs": [
        {
          "metadata": {
            "tags": null
          },
          "name": "stdout",
          "output_type": "stream",
          "text": [
            "Iniciando o processo de Fine-Tuning...\n"
          ]
        },
        {
          "metadata": {
            "tags": null
          },
          "name": "stderr",
          "output_type": "stream",
          "text": [
            "/usr/local/lib/python3.12/dist-packages/notebook/notebookapp.py:191: SyntaxWarning: invalid escape sequence '\\/'\n",
            "  | |_| | '_ \\/ _` / _` |  _/ -_)\n"
          ]
        },
        {
          "data": {
            "application/javascript": [
              "\n",
              "        window._wandbApiKey = new Promise((resolve, reject) => {\n",
              "            function loadScript(url) {\n",
              "            return new Promise(function(resolve, reject) {\n",
              "                let newScript = document.createElement(\"script\");\n",
              "                newScript.onerror = reject;\n",
              "                newScript.onload = resolve;\n",
              "                document.body.appendChild(newScript);\n",
              "                newScript.src = url;\n",
              "            });\n",
              "            }\n",
              "            loadScript(\"https://cdn.jsdelivr.net/npm/postmate/build/postmate.min.js\").then(() => {\n",
              "            const iframe = document.createElement('iframe')\n",
              "            iframe.style.cssText = \"width:0;height:0;border:none\"\n",
              "            document.body.appendChild(iframe)\n",
              "            const handshake = new Postmate({\n",
              "                container: iframe,\n",
              "                url: 'https://wandb.ai/authorize'\n",
              "            });\n",
              "            const timeout = setTimeout(() => reject(\"Couldn't auto authenticate\"), 5000)\n",
              "            handshake.then(function(child) {\n",
              "                child.on('authorize', data => {\n",
              "                    clearTimeout(timeout)\n",
              "                    resolve(data)\n",
              "                });\n",
              "            });\n",
              "            })\n",
              "        });\n",
              "    "
            ],
            "text/plain": [
              "<IPython.core.display.Javascript object>"
            ]
          },
          "metadata": {},
          "output_type": "display_data"
        },
        {
          "metadata": {
            "tags": null
          },
          "name": "stderr",
          "output_type": "stream",
          "text": [
            "\u001b[34m\u001b[1mwandb\u001b[0m: Logging into wandb.ai. (Learn how to deploy a W&B server locally: https://wandb.me/wandb-server)\n",
            "\u001b[34m\u001b[1mwandb\u001b[0m: You can find your API key in your browser here: https://wandb.ai/authorize?ref=models\n",
            "wandb: Paste an API key from your profile and hit enter:"
          ]
        }
      ]
    },
    {
      "cell_type": "markdown",
      "source": [
        "### 6. Salvado o modelo para uso posterior"
      ],
      "metadata": {
        "id": "TJt1QB9jF3Q5"
      }
    },
    {
      "cell_type": "code",
      "source": [
        "trainer.save_model(final_model_path_drive)\n",
        "print(f\"Modelo final salvo com sucesso em: {final_model_path_drive}\")"
      ],
      "metadata": {
        "id": "GnflMonVF6pV"
      },
      "execution_count": null,
      "outputs": []
    },
    {
      "cell_type": "markdown",
      "source": [
        "### 7. Criando um pipeline com nosso novo modelo\n"
      ],
      "metadata": {
        "id": "DIwWHM7YNwyb"
      }
    },
    {
      "cell_type": "code",
      "source": [
        "qa_pipeline_finetuned = pipeline(\"question-answering\", model=final_model_path, tokenizer=final_model_path)\n",
        "\n",
        "print(\"\\n--- Teste Pós-Fine-Tuning ---\")\n",
        "print(f\"Pergunta: {question_baseline}\")\n",
        "\n",
        "result_finetuned = qa_pipeline_finetuned(question=question_baseline, context=context_baseline)\n",
        "\n",
        "print(f\"\\nResposta do Modelo Baseline: '{result_baseline['answer']}' (Score: {result_baseline['score']:.4f})\")\n",
        "print(f\"Resposta do Modelo Fine-Tuned: '{result_finetuned['answer']}' (Score: {result_finetuned['score']:.4f})\")\n",
        "\n",
        "new_sample = eval_dataset[10]\n",
        "new_question = new_sample['question']\n",
        "new_context = new_sample['context']\n",
        "\n",
        "print(f\"Pergunta: {new_question}\")\n",
        "result_new = qa_pipeline_finetuned(question=new_question, context=new_context)\n",
        "print(f\"Resposta Gerada: '{result_new['answer']}'\")"
      ],
      "metadata": {
        "id": "tqQc3YsmNzFT"
      },
      "execution_count": null,
      "outputs": []
    }
  ]
}